{
 "cells": [
  {
   "cell_type": "markdown",
   "metadata": {},
   "source": [
    "## Python practice problems***\n",
    "\n",
    "I had originally done 12-15 exercises from the python basics sections that got deleted somehow, so this notebook is all of the practice problems I have done in addition to the 12-15 exercises that got deleted."
   ]
  },
  {
   "cell_type": "code",
   "execution_count": 85,
   "metadata": {},
   "outputs": [
    {
     "name": "stdout",
     "output_type": "stream",
     "text": [
      "15\n"
     ]
    }
   ],
   "source": [
    "# Lists, number 1: Write a Python program to sum all the items in a list.\n",
    "\n",
    "def numbers(sums):\n",
    "    sumnumbers = 0\n",
    "    for i in sums:\n",
    "        sumnumbers += i\n",
    "    return sumnumbers\n",
    "print(numbers([1,2,3,4,5]))\n",
    "        "
   ]
  },
  {
   "cell_type": "code",
   "execution_count": 8,
   "metadata": {},
   "outputs": [
    {
     "name": "stdout",
     "output_type": "stream",
     "text": [
      "24\n"
     ]
    }
   ],
   "source": [
    "# Lists, number 2: Write a Python program to multiplies all the items in a list\n",
    "\n",
    "def numbers(mult):\n",
    "    solution = 1\n",
    "    for a in mult:\n",
    "        solution *= a\n",
    "    return solution\n",
    "print(numbers([1,2,3,4]))\n",
    "        \n",
    "    "
   ]
  },
  {
   "cell_type": "code",
   "execution_count": 18,
   "metadata": {},
   "outputs": [
    {
     "name": "stdout",
     "output_type": "stream",
     "text": [
      "3\n",
      "74\n"
     ]
    }
   ],
   "source": [
    "#Lists, number 3 & 4: Write a Python program to get the largest (and smallest) number from a list\n",
    "\n",
    "import numpy as np\n",
    "\n",
    "numbers = [45,5,74,12,32,3]\n",
    "\n",
    "np_numbers = np.array(numbers)\n",
    "\n",
    "print(np.nanmin(np_numbers))\n",
    "print(np.nanmax(np_numbers))\n"
   ]
  },
  {
   "cell_type": "code",
   "execution_count": 20,
   "metadata": {},
   "outputs": [
    {
     "name": "stdout",
     "output_type": "stream",
     "text": [
      "[1, 2, 3, 4, 5, 6]\n"
     ]
    }
   ],
   "source": [
    "# Lists, number 7: Write a Python program to remove duplicates from a list.\n",
    "\n",
    "def finallist(nums):\n",
    "    a = []\n",
    "    for i in nums:\n",
    "        if i in a:\n",
    "            del i\n",
    "        else:\n",
    "            a += [i]\n",
    "    return a\n",
    "\n",
    "print(finallist([1,2,3,4,4,5,5,5,6,]))"
   ]
  },
  {
   "cell_type": "code",
   "execution_count": 41,
   "metadata": {},
   "outputs": [
    {
     "name": "stdout",
     "output_type": "stream",
     "text": [
      "Original order  {1: 'BOS', 2: 'NYY', 3: 'TB', 4: 'TOR', 5: 'BAL'}\n",
      "My favorite team:  NYY\n",
      "Reverse Order:  [(5, 'BAL'), (4, 'TOR'), (3, 'TB'), (2, 'NYY'), (1, 'BOS')]\n"
     ]
    }
   ],
   "source": [
    "# Dictionaries, number 1:  Write a Python script to sort (ascending and descending) a dictionary by value\n",
    "\n",
    "import operator\n",
    "\n",
    "AL_East = {1: 'BOS', 2: 'NYY', 3: 'TB', 4: 'TOR', 5: 'BAL' }\n",
    "\n",
    "print(\"Original order \", AL_East)\n",
    "print(\"My favorite team: \", AL_East[2])\n",
    "sorted_AL_East = sorted(AL_East.items(), key= operator.itemgetter(0), reverse = True)\n",
    "print(\"Reverse Order: \", sorted_AL_East)\n",
    "\n"
   ]
  },
  {
   "cell_type": "code",
   "execution_count": 44,
   "metadata": {},
   "outputs": [
    {
     "name": "stdout",
     "output_type": "stream",
     "text": [
      "{1: 'NYY', 2: 'BKN', 3: 'VIK', 4: 'GSW', 5: 'MAR', 6: 'NYK'}\n"
     ]
    }
   ],
   "source": [
    "#Dictionaries, number 3: Write a Python script to concatenate following dictionaries to create a new one.\n",
    "\n",
    "dict1 = {1: 'NYY', 2: \"BKN\"}\n",
    "dict2 = {3: 'VIK', 4: 'GSW'}\n",
    "dict3 = {5: 'MAR', 6: 'NYK'}\n",
    "my_teams = {}\n",
    "\n",
    "for t in (dict1, dict2, dict3): my_teams.update(t)\n",
    "print(my_teams)\n"
   ]
  },
  {
   "cell_type": "code",
   "execution_count": 47,
   "metadata": {},
   "outputs": [
    {
     "name": "stdout",
     "output_type": "stream",
     "text": [
      "{1: 'NYY', 2: 'SEA', 3: 'MIL', 'a': 'BKN', 'b': 'GSW'}\n"
     ]
    }
   ],
   "source": [
    "# Dictionaries, number 8: Write a Python script to merge two Python dictionaries.\n",
    "\n",
    "baseball_team = {1: 'NYY', 2: 'SEA', 3: 'MIL'}\n",
    "basketball_team = {'a': 'BKN', 'b': 'GSW'}\n",
    "\n",
    "t = baseball_team.copy()\n",
    "t.update(basketball_team)\n",
    "print(t)"
   ]
  },
  {
   "cell_type": "code",
   "execution_count": 50,
   "metadata": {},
   "outputs": [
    {
     "name": "stdout",
     "output_type": "stream",
     "text": [
      "(True, 2, 'y')\n"
     ]
    }
   ],
   "source": [
    "# Tuples, number 2: Write a Python program to create a tuple with different data types\n",
    "\n",
    "x = (1,2,3)\n",
    "y = ('a','b','c')\n",
    "z = (True, 2, 'y')\n",
    "print(z)"
   ]
  },
  {
   "cell_type": "code",
   "execution_count": 53,
   "metadata": {},
   "outputs": [
    {
     "name": "stdout",
     "output_type": "stream",
     "text": [
      "hello\n"
     ]
    }
   ],
   "source": [
    "#Tuples, number 6: Write a Python program to convert a tuple to a string\n",
    "letters = ('h', 'e', 'l', 'l', 'o')\n",
    "word = ''.join(letters)\n",
    "print(word)\n"
   ]
  },
  {
   "cell_type": "code",
   "execution_count": 65,
   "metadata": {},
   "outputs": [
    {
     "name": "stdout",
     "output_type": "stream",
     "text": [
      "0\n",
      "y\n"
     ]
    }
   ],
   "source": [
    "#Tuples, number 7: Write a Python program to get the 4th element and 4th element from last of a tuple\n",
    "\n",
    "course = ('I', \"S\", 5,0,5, \"P\", 'y', 't', 'o', 'n')\n",
    "print(course[3])\n",
    "print(course[-4])"
   ]
  },
  {
   "cell_type": "code",
   "execution_count": 67,
   "metadata": {},
   "outputs": [
    {
     "name": "stdout",
     "output_type": "stream",
     "text": [
      "True\n",
      "False\n",
      "True\n"
     ]
    }
   ],
   "source": [
    "#Tuples, number 10: Write a Python program to check whether an element exists within a tuple.\n",
    "\n",
    "numbs = (1,2,3,4,5,6,7,8,9)\n",
    "\n",
    "print(1 in numbs)\n",
    "print(12 in numbs)\n",
    "print(15 not in numbs)"
   ]
  },
  {
   "cell_type": "code",
   "execution_count": 72,
   "metadata": {},
   "outputs": [
    {
     "name": "stdout",
     "output_type": "stream",
     "text": [
      "(3, 4, 5)\n",
      "(1, 2, 3, 4, 5, 6, 7, 8, 9)\n",
      "(8, 6)\n"
     ]
    }
   ],
   "source": [
    "#Tuples, number 13: Write a Python program to slice a tuple.\n",
    "\n",
    "numbers = (1,2,3,4,5,6,7,8,9,8,7,6,5,4,3,2,1)\n",
    "\n",
    "print(numbers[2:5])\n",
    "print(numbers[:9])\n",
    "print(numbers[9:2:-4])"
   ]
  },
  {
   "cell_type": "code",
   "execution_count": 77,
   "metadata": {},
   "outputs": [
    {
     "name": "stdout",
     "output_type": "stream",
     "text": [
      "[1505, 1540, 1575, 1610, 1645, 1680, 1715, 1750, 1785, 1820, 1855, 1890, 1925, 1960, 1995, 2030, 2065, 2100, 2135, 2170, 2205, 2240, 2275, 2310, 2345, 2380, 2415, 2450, 2485, 2520, 2555, 2590, 2625, 2660, 2695]\n"
     ]
    }
   ],
   "source": [
    "#Conditionals and Loops (C&L), number 1: Write a Python program to find those numbers which are divisible by 7 and multiple of 5, between 1500 and 2700 (both included)\n",
    "\n",
    "numbers = []\n",
    "\n",
    "for x in range(1500,2701):\n",
    "    if (x % 7 == 0) and (x % 5 ==0):\n",
    "        numbers += [x]\n",
    "        \n",
    "print(numbers)\n"
   ]
  },
  {
   "cell_type": "code",
   "execution_count": 80,
   "metadata": {},
   "outputs": [
    {
     "name": "stdout",
     "output_type": "stream",
     "text": [
      "Well Done\n"
     ]
    }
   ],
   "source": [
    "#C&L number 3: Write a Python program to guess a number between 1 to 9.\n",
    "#Note: User is prompted to enter a guess. If the user guesses wrong then the prompt appears again until the guess is correct, on successful guess, user will get a \"Well guessed!\" message, and the program will exit.\n",
    "\n",
    "import random\n",
    "target_num, guess_num = random.randint(1,10), 0\n",
    "\n",
    "while target_num != guess_num: \n",
    "    guess_num = int(input(\"Please guess what number between 1 and 9 I am thinking of: \"))\n",
    "\n",
    "print(\"Well Done\")\n",
    "    "
   ]
  },
  {
   "cell_type": "code",
   "execution_count": 4,
   "metadata": {},
   "outputs": [
    {
     "name": "stdout",
     "output_type": "stream",
     "text": [
      "FizzBuzz\n",
      "1\n",
      "2\n",
      "Fizz\n",
      "4\n",
      "Buzz\n",
      "Fizz\n",
      "7\n",
      "8\n",
      "Fizz\n",
      "Buzz\n",
      "11\n",
      "Fizz\n",
      "13\n",
      "14\n",
      "FizzBuzz\n",
      "16\n",
      "17\n",
      "Fizz\n",
      "19\n",
      "Buzz\n",
      "Fizz\n",
      "22\n",
      "23\n",
      "Fizz\n",
      "Buzz\n",
      "26\n",
      "Fizz\n",
      "28\n",
      "29\n",
      "FizzBuzz\n",
      "31\n",
      "32\n",
      "Fizz\n",
      "34\n",
      "Buzz\n",
      "Fizz\n",
      "37\n",
      "38\n",
      "Fizz\n",
      "Buzz\n",
      "41\n",
      "Fizz\n",
      "43\n",
      "44\n",
      "FizzBuzz\n",
      "46\n",
      "47\n",
      "Fizz\n",
      "49\n"
     ]
    }
   ],
   "source": [
    "#C&L number 10: Write a Python program which iterates the integers from 1 to 50. For multiples of three print \"Fizz\" instead of the number and for the multiples of five print \"Buzz\". For numbers which are multiples of both three and five print \"FizzBuzz\".\n",
    "\n",
    "for y in range(50):\n",
    "    if (y % 3 == 0) and (y % 5 == 0):\n",
    "        print(\"FizzBuzz\")\n",
    "    elif y % 5 == 0:\n",
    "        print(\"Buzz\")\n",
    "    elif y % 3 == 0:\n",
    "        print(\"Fizz\")\n",
    "    else:\n",
    "        print(y)"
   ]
  },
  {
   "cell_type": "code",
   "execution_count": 3,
   "metadata": {},
   "outputs": [
    {
     "name": "stdout",
     "output_type": "stream",
     "text": [
      "f  is a consonant\n"
     ]
    }
   ],
   "source": [
    "#C&L number 32: Write a Python program to check whether an alphabet is a vowel or consonant.\n",
    "\n",
    "letter = input('please enter a letter: ')\n",
    "\n",
    "if letter in ['a', 'e', 'i', 'o', 'u']:\n",
    "    print(letter, \" is a vowel\")\n",
    "else:\n",
    "    print(letter, \" is a consonant\")\n",
    "    \n",
    "    "
   ]
  },
  {
   "cell_type": "code",
   "execution_count": 1,
   "metadata": {},
   "outputs": [
    {
     "name": "stdout",
     "output_type": "stream",
     "text": [
      "number of even:  4\n",
      "number of odd:  5\n"
     ]
    }
   ],
   "source": [
    "#C&L number 6: Write a Python program to count the number of even and odd numbers from a series of numbers.\n",
    "\n",
    "set = (1,2,3,4,5,6,7,8,9)\n",
    "count_even = 0\n",
    "count_odd = 0\n",
    "for i in set:\n",
    "    if i % 2 == 0:\n",
    "        count_even += 1\n",
    "    else:\n",
    "        count_odd += 1\n",
    "        \n",
    "print(\"number of even: \", count_even)\n",
    "print(\"number of odd: \", count_odd)\n",
    "\n"
   ]
  },
  {
   "cell_type": "code",
   "execution_count": null,
   "metadata": {},
   "outputs": [],
   "source": [
    "#File I/O number 1: Write a Python program to read an entire text file\n",
    "\n",
    "f = open('filename', 'r')\n",
    "txtfile = f.read()\n",
    "\n",
    "#File I/0 number 2: Write a Python program to read first n (4) lines of a file\n",
    "\n",
    "f = open('filename', 'r')\n",
    "textfile = f.readlines(4)\n",
    "print(textfile[0:4])"
   ]
  },
  {
   "cell_type": "code",
   "execution_count": null,
   "metadata": {},
   "outputs": [],
   "source": [
    "#File I/O number 5: Write a Python program to read a file line by line and store it into a list\n",
    "\n",
    "with open('filename', 'r') as op:\n",
    "    content = op.readlines()\n",
    "    print(content)"
   ]
  },
  {
   "cell_type": "code",
   "execution_count": null,
   "metadata": {},
   "outputs": [],
   "source": []
  }
 ],
 "metadata": {
  "kernelspec": {
   "display_name": "Python 3",
   "language": "python",
   "name": "python3"
  },
  "language_info": {
   "codemirror_mode": {
    "name": "ipython",
    "version": 3
   },
   "file_extension": ".py",
   "mimetype": "text/x-python",
   "name": "python",
   "nbconvert_exporter": "python",
   "pygments_lexer": "ipython3",
   "version": "3.6.5"
  }
 },
 "nbformat": 4,
 "nbformat_minor": 2
}
